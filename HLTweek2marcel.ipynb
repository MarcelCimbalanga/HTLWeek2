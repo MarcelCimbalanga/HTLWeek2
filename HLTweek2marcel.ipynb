{
 "metadata": {
  "language_info": {
   "codemirror_mode": {
    "name": "ipython",
    "version": 3
   },
   "file_extension": ".py",
   "mimetype": "text/x-python",
   "name": "python",
   "nbconvert_exporter": "python",
   "pygments_lexer": "ipython3",
   "version": "3.9.6"
  },
  "orig_nbformat": 4,
  "kernelspec": {
   "name": "python3",
   "display_name": "Python 3.9.6 64-bit"
  },
  "interpreter": {
   "hash": "247ab06e135bb35fa78c5eff31b2a9a0050dcb5fb773c2631d2a29ac689eeccb"
  }
 },
 "nbformat": 4,
 "nbformat_minor": 2,
 "cells": [
  {
   "cell_type": "code",
   "execution_count": null,
   "metadata": {},
   "outputs": [],
   "source": [
    "# Task1\n",
    "\n",
    "user_order = input(\"Enter order: \")\n",
    "user_answer_1 = input (\"Want fries? Yes or No: \")\n",
    "user_answer_2 = input(\"Want drink? Yes or No: \")\n",
    "\n",
    "if user_answer_1 == \"No\" and user_answer_2 == \"No\":\n",
    "    print(\"Pay cashier\")\n",
    "elif user_answer_1 == \"No\" and user_answer_2 == \"Yes\":\n",
    "    print(\"Order drink\")\n",
    "    print(\"Pay cashier\")\n",
    "elif user_answer_1 == \"Yes\" and user_answer_2 == \"No\":\n",
    "    print(\"Order fries\")\n",
    "    print(\"Pay cashier\")\n",
    "else:\n",
    "    print(\"Order fries\")\n",
    "    print(\"Pay cashier\")\n"
   ]
  },
  {
   "cell_type": "code",
   "execution_count": null,
   "metadata": {},
   "outputs": [],
   "source": [
    "# Task2\n",
    "\n",
    "def cost_of_bike(cost, percentagefall):\n",
    "    return cost - cost * percentagefall\n",
    "\n",
    "cost = 2000\n",
    "percentagefall = 0.10\n",
    "\n",
    "while cost >= 1000:\n",
    "   cost-= cost * 0.1\n",
    "   print(cost)\n",
    "print(\"Done with loop\")"
   ]
  },
  {
   "cell_type": "code",
   "execution_count": 1,
   "metadata": {},
   "outputs": [
    {
     "output_type": "stream",
     "name": "stdout",
     "text": [
      "Select operation.\n",
      "1.Add\n",
      "2.Subtract\n",
      "3.Multiply\n",
      "4.Divide\n",
      "65844.0\n",
      "5487.0 * 12.0 = None\n"
     ]
    }
   ],
   "source": [
    "\n",
    "# This function adds two numbers\n",
    "def add(x, y):\n",
    "    result = x +y\n",
    "    print(result)\n",
    "\n",
    "# This function subtracts two numbers\n",
    "def subtract(x, y):\n",
    "    result = x - y\n",
    "    print(result)\n",
    "\n",
    "# This function multiplies two numbers\n",
    "def multiply(x, y):\n",
    "    result = x * y\n",
    "    print(result)\n",
    "\n",
    "# This function divides two numbers\n",
    "def divide(x, y):\n",
    "    result = x / y\n",
    "    print(result)\n",
    "\n",
    "print(\"Select operation.\")\n",
    "print(\"1.Add\")\n",
    "print(\"2.Subtract\")\n",
    "print(\"3.Multiply\")\n",
    "print(\"4.Divide\")\n",
    "\n",
    "while True:\n",
    "    # Take input from the user\n",
    "    choice = input(\"Enter choice(1/2/3/4): \")\n",
    "\n",
    "    # Check if choice is one of the four options\n",
    "    if choice in ('1', '2', '3', '4'):\n",
    "        num1 = float(input(\"Enter first number: \"))\n",
    "        num2 = float(input(\"Enter second number: \"))\n",
    "\n",
    "        if choice == '1':\n",
    "            print(num1, \"+\", num2, \"=\", add(num1, num2))\n",
    "\n",
    "        elif choice == '2':\n",
    "            print(num1, \"-\", num2, \"=\", subtract(num1, num2))\n",
    "\n",
    "        elif choice == '3':\n",
    "            print(num1, \"*\", num2, \"=\", multiply(num1, num2))\n",
    "\n",
    "        elif choice == '4':\n",
    "            print(num1, \"/\", num2, \"=\", divide(num1, num2))\n",
    "        break\n",
    "    else:\n",
    "        print(\"Invalid Input\")"
   ]
  }
 ]
}